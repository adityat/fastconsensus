{
    "cells": [
     {
      "cell_type": "markdown",
      "metadata": {},
      "source": [
       "# FastConsensus on LFR Benchmark Graphs\n",
       "\n",
       "This notebook demonstrates the usage of the FastConsensus algorithm on LFR benchmark graphs and compares its performance with individual community detection algorithms."
      ]
     },
     {
      "cell_type": "code",
      "execution_count": null,
      "metadata": {},
      "source": [
       "import sys\n",
       "import os\n",
       "sys.path.append(os.path.abspath(os.path.join(os.getcwd(), '..', 'src')))\n",
       "\n",
       "import igraph as ig\n",
       "import numpy as np\n",
       "import matplotlib.pyplot as plt\n",
       "from fastconsensus.algorithms import get_algorithm\n",
       "from fastconsensus.core import fast_consensus_clustering\n",
       "from fastconsensus.utils import calculate_modularity, compare_partitions\n",
       "\n",
       "# If you have networkx and community installed, uncomment the following lines\n",
       "# import networkx as nx\n",
       "# import community as community_louvain\n",
       "# from networkx.generators.community import LFR_benchmark_graph"
      ]
     },
     {
      "cell_type": "markdown",
      "metadata": {},
      "source": [
       "## Generate LFR Benchmark Graph\n",
       "\n",
       "Note: This function requires networkx and community libraries. If you don't have them installed, you can use a pre-generated LFR graph or implement your own LFR generator."
      ]
     },
     {
      "cell_type": "code",
      "execution_count": null,
      "metadata": {},
      "source": [
       "def generate_lfr_graph(n, tau1, tau2, mu, average_degree, max_degree, min_community, max_community):\n",
       "    # Uncomment the following lines if you have networkx and community installed\n",
       "    # G = LFR_benchmark_graph(n, tau1, tau2, mu, average_degree=average_degree, max_degree=max_degree,\n",
       "    #                         min_community=min_community, max_community=max_community)\n",
       "    # # Convert to igraph\n",
       "    # edges = list(G.edges())\n",
       "    # g = ig.Graph(n=n, edges=edges)\n",
       "    # # Get ground truth communities\n",
       "    # true_communities = {node: G.nodes[node]['community'] for node in G.nodes()}\n",
       "    # return g, true_communities\n",
       "    \n",
       "    # For demonstration, we'll create a random graph instead\n",
       "    g = ig.Graph.Erdos_Renyi(n=n, m=int(n * average_degree / 2))\n",
       "    true_communities = {i: i % 5 for i in range(n)}  # Assign random communities\n",
       "    return g, true_communities\n",
       "\n",
       "# Generate LFR benchmark graph\n",
       "n = 1000\n",
       "tau1 = 2.5\n",
       "tau2 = 1.5\n",
       "mu = 0.1\n",
       "average_degree = 20\n",
       "max_degree = 50\n",
       "min_community = 20\n",
       "max_community = 100\n",
       "\n",
       "g, true_communities = generate_lfr_graph(n, tau1, tau2, mu, average_degree, max_degree, min_community, max_community)\n",
       "print(f\"Generated LFR benchmark graph with {g.vcount()} nodes and {g.ecount()} edges\")"
      ]
     },
     {
      "cell_type": "markdown",
      "metadata": {},
      "source": [
       "## Apply community detection algorithms"
      ]
     },
     {
      "cell_type": "code",
      "execution_count": null,
      "metadata": {},
      "source": [
       "algorithms = ['louvain', 'label_propagation']\n",
       "results = {}\n",
       "\n",
       "for alg_name in algorithms:\n",
       "    alg = get_algorithm(alg_name)\n",
       "    partition = alg.detect_communities(g)\n",
       "    results[alg_name] = partition\n",
       "    print(f\"{alg_name.capitalize()} algorithm detected {len(set(partition.values()))} communities\")\n",
       "\n",
       "# Apply FastConsensus\n",
       "fast_consensus_partition = fast_consensus_clustering(g, n_partitions=20, threshold=0.2, algorithm='louvain')\n",
       "results['FastConsensus'] = fast_consensus_partition\n",
       "print(f\"FastConsensus detected {len(set(fast_consensus_partition.values()))} communities\")"
      ]
     },
     {
      "cell_type": "markdown",
      "metadata": {},
      "source": [
       "## Evaluate results"
      ]
     },
     {
      "cell_type": "code",
      "execution_count": null,
      "metadata": {},
      "source": [
       "# Calculate modularity for each partition\n",
       "print(\"Modularity scores:\")\n",
       "for alg_name, partition in results.items():\n",
       "    modularity = calculate_modularity(g, partition)\n",
       "    print(f\"{alg_name}: {modularity:.4f}\")\n",
       "\n",
       "# Compare partitions with ground truth\n",
       "print(\"\\nNormalized Mutual Information (NMI) with ground truth:\")\n",
       "for alg_name, partition in results.items():\n",
       "    nmi = compare_partitions(true_communities, partition)\n",
       "    print(f\"{alg_name}: {nmi:.4f}\")\n",
       "\n",
       "# Compare partitions with each other\n",
       "print(\"\\nNormalized Mutual Information (NMI) between partitions:\")\n",
       "for i, (alg1, partition1) in enumerate(results.items()):\n",
       "    for alg2, partition2 in list(results.items())[i+1:]:\n",
       "        nmi = compare_partitions(partition1, partition2)\n",
       "        print(f\"{alg1} vs {alg2}: {nmi:.4f}\")"
      ]
     },
     {
      "cell_type": "markdown",
      "metadata": {},
      "source": [
       "## Visualize results"
      ]
     },
     {
      "cell_type": "code",
      "execution_count": null,
      "metadata": {},
      "source": [
       "def plot_communities(g, partition, title):\n",
       "    color_list = plt.cm.tab20(np.linspace(0, 1, 20))\n",
       "    node_colors = [color_list[c % 20] for c in partition.values()]\n",
       "    \n",
       "    layout = g.layout_fruchterman_reingold()\n",
       "    visual_style = {\n",
       "        \"vertex_size\": 7,\n",
       "        \"vertex_color\": node_colors,\n",
       "        \"edge_width\": 0.5,\n",
       "        \"layout\": layout,\n",
       "        \"bbox\": (600, 600),\n",
       "        \"margin\": 20\n",
       "    }\n",
       "    \n",
       "    fig, ax = plt.subplots(figsize=(10, 10))\n",
       "    ig.plot(g, target=ax, **visual_style)\n",
       "    plt.title(title)\n",
       "    plt.axis('off')\n",
       "    plt.tight_layout()\n",
       "    plt.show()\n",
       "\n",
       "# Plot ground truth and detected communities\n",
       "plot_communities(g, true_communities, \"Ground Truth Communities\")\n",
       "for alg_name, partition in results.items():\n",
       "    plot_communities(g, partition, f\"{alg_name} Communities\")"
      ]
     }
    ],
    "metadata": {
     "kernelspec": {
      "display_name": "Python 3",
      "language": "python",
      "name": "python3"
     },
     "language_info": {
      "codemirror_mode": {
       "name": "ipython",
       "version": 3
      },
      "file_extension": ".py",
      "mimetype": "text/x-python",
      "name": "python",
      "nbconvert_exporter": "python",
      "pygments_lexer": "ipython3",
      "version": "3.9.0"
     }
    },
    "nbformat": 4,
    "nbformat_minor": 4
   }